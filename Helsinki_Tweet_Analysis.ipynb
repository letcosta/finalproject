{
 "cells": [
  {
   "cell_type": "code",
   "execution_count": 1,
   "metadata": {},
   "outputs": [],
   "source": [
    "import pandas as pd\n",
    "import numpy as np\n",
    "import textblob\n",
    "from textblob import TextBlob\n",
    "import re\n",
    "import matplotlib\n",
    "import matplotlib.pyplot as plt\n",
    "from matplotlib import cm\n",
    "import warnings\n",
    "warnings.simplefilter(\"ignore\")\n",
    "%matplotlib inline\n",
    "\n",
    "matplotlib.rcParams['figure.figsize'] = [10,10]"
   ]
  },
  {
   "cell_type": "code",
   "execution_count": 2,
   "metadata": {
    "collapsed": true
   },
   "outputs": [],
   "source": [
    "trump_df = pd.read_csv(\"data/realDonaldTrump_tweets.csv\")"
   ]
  },
  {
   "cell_type": "code",
   "execution_count": 3,
   "metadata": {},
   "outputs": [],
   "source": [
    "#removes the 'b' infront of the tweets that indicate byte format\n",
    "trump_df.text = trump_df.text.str.lstrip(\"b'\")"
   ]
  },
  {
   "cell_type": "code",
   "execution_count": 4,
   "metadata": {},
   "outputs": [],
   "source": [
    "#Saving that into a new csv\n",
    "trump_df.to_csv(\"test.csv\", index=False, encoding=\"utf-8\")"
   ]
  },
  {
   "cell_type": "code",
   "execution_count": 5,
   "metadata": {},
   "outputs": [
    {
     "data": {
      "text/html": [
       "<div>\n",
       "<style scoped>\n",
       "    .dataframe tbody tr th:only-of-type {\n",
       "        vertical-align: middle;\n",
       "    }\n",
       "\n",
       "    .dataframe tbody tr th {\n",
       "        vertical-align: top;\n",
       "    }\n",
       "\n",
       "    .dataframe thead th {\n",
       "        text-align: right;\n",
       "    }\n",
       "</style>\n",
       "<table border=\"1\" class=\"dataframe\">\n",
       "  <thead>\n",
       "    <tr style=\"text-align: right;\">\n",
       "      <th></th>\n",
       "      <th>Unnamed: 0</th>\n",
       "      <th>id</th>\n",
       "      <th>created_at</th>\n",
       "      <th>text</th>\n",
       "    </tr>\n",
       "  </thead>\n",
       "  <tbody>\n",
       "    <tr>\n",
       "      <th>0</th>\n",
       "      <td>0</td>\n",
       "      <td>1019545713435467776</td>\n",
       "      <td>2018-07-18 11:33:34</td>\n",
       "      <td>3.4 million jobs created since our great Elect...</td>\n",
       "    </tr>\n",
       "    <tr>\n",
       "      <th>1</th>\n",
       "      <td>1</td>\n",
       "      <td>1019544304853966853</td>\n",
       "      <td>2018-07-18 11:27:59</td>\n",
       "      <td>Some people HATE the fact that I got along wel...</td>\n",
       "    </tr>\n",
       "    <tr>\n",
       "      <th>2</th>\n",
       "      <td>2</td>\n",
       "      <td>1019538038651871233</td>\n",
       "      <td>2018-07-18 11:03:05</td>\n",
       "      <td>\\xe2\\x80\\x9cA lot of Democrats wished they vot...</td>\n",
       "    </tr>\n",
       "    <tr>\n",
       "      <th>3</th>\n",
       "      <td>3</td>\n",
       "      <td>1019533312052858880</td>\n",
       "      <td>2018-07-18 10:44:18</td>\n",
       "      <td>Congratulations to Martha Roby of The Great St...</td>\n",
       "    </tr>\n",
       "    <tr>\n",
       "      <th>4</th>\n",
       "      <td>4</td>\n",
       "      <td>1019526399542091776</td>\n",
       "      <td>2018-07-18 10:16:50</td>\n",
       "      <td>....Russia has agreed to help with North Korea...</td>\n",
       "    </tr>\n",
       "  </tbody>\n",
       "</table>\n",
       "</div>"
      ],
      "text/plain": [
       "   Unnamed: 0                   id           created_at  \\\n",
       "0           0  1019545713435467776  2018-07-18 11:33:34   \n",
       "1           1  1019544304853966853  2018-07-18 11:27:59   \n",
       "2           2  1019538038651871233  2018-07-18 11:03:05   \n",
       "3           3  1019533312052858880  2018-07-18 10:44:18   \n",
       "4           4  1019526399542091776  2018-07-18 10:16:50   \n",
       "\n",
       "                                                text  \n",
       "0  3.4 million jobs created since our great Elect...  \n",
       "1  Some people HATE the fact that I got along wel...  \n",
       "2  \\xe2\\x80\\x9cA lot of Democrats wished they vot...  \n",
       "3  Congratulations to Martha Roby of The Great St...  \n",
       "4  ....Russia has agreed to help with North Korea...  "
      ]
     },
     "execution_count": 5,
     "metadata": {},
     "output_type": "execute_result"
    }
   ],
   "source": [
    "#Checking the new csv\n",
    "pd.read_csv(\"test.csv\", encoding=\"utf-8\").head()"
   ]
  },
  {
   "cell_type": "code",
   "execution_count": 6,
   "metadata": {},
   "outputs": [
    {
     "data": {
      "text/plain": [
       "Unnamed: 0     int64\n",
       "id             int64\n",
       "created_at    object\n",
       "text          object\n",
       "dtype: object"
      ]
     },
     "execution_count": 6,
     "metadata": {},
     "output_type": "execute_result"
    }
   ],
   "source": [
    "trump_df.dtypes"
   ]
  },
  {
   "cell_type": "markdown",
   "metadata": {},
   "source": [
    "Sentiment analysis, mainly based on the English words he types. Try and format the text into ASCII format. "
   ]
  },
  {
   "cell_type": "code",
   "execution_count": 23,
   "metadata": {},
   "outputs": [],
   "source": [
    "#Try and clean the tweet text? Just keep the ascii- letter characters\n",
    "def clean_tweet(text):\n",
    "    \"\"\"Function to clean the text of a tweet by removing links and special characters using regex\"\"\"\n",
    "    return ''.join(re.sub(\"(@[A-Za-z]+)|([^A-Za-z \\t])|(\\w+:\\/\\/\\S+)\", \" \", text)) "
   ]
  },
  {
   "cell_type": "code",
   "execution_count": 24,
   "metadata": {},
   "outputs": [],
   "source": [
    "#Try and access each tweet content, and clean it up\n",
    "for tweet in trump_df.text:\n",
    "    clean_tweet(tweet)"
   ]
  },
  {
   "cell_type": "code",
   "execution_count": 27,
   "metadata": {},
   "outputs": [],
   "source": [
    "# New single columned data frame\n",
    "new_trump_df = trump_df.text.apply(clean_tweet)"
   ]
  },
  {
   "cell_type": "code",
   "execution_count": 28,
   "metadata": {},
   "outputs": [
    {
     "data": {
      "text/plain": [
       "0        million jobs created since our great Elect...\n",
       "1    Some people HATE the fact that I got along wel...\n",
       "2     xe  x   x cA lot of Democrats wished they vot...\n",
       "3    Congratulations to Martha Roby of The Great St...\n",
       "4        Russia has agreed to help with North Korea...\n",
       "5    While the NATO meeting in Brussels was an ackn...\n",
       "6    So many people at the higher ends of intellige...\n",
       "7     xe  x   x cProsperity is returning  Donald Tr...\n",
       "8    The Democrats want to abolish ICE  which will ...\n",
       "9    The meeting between President Putin and myself...\n",
       "Name: text, dtype: object"
      ]
     },
     "execution_count": 28,
     "metadata": {},
     "output_type": "execute_result"
    }
   ],
   "source": [
    "#only contains the clean text as a column\n",
    "new_trump_df.head(10)"
   ]
  },
  {
   "cell_type": "code",
   "execution_count": 30,
   "metadata": {},
   "outputs": [],
   "source": [
    "#replacing the old data frame's text with the new text\n",
    "trump_df['text'] = new_trump_df"
   ]
  },
  {
   "cell_type": "code",
   "execution_count": 31,
   "metadata": {},
   "outputs": [
    {
     "data": {
      "text/html": [
       "<div>\n",
       "<style scoped>\n",
       "    .dataframe tbody tr th:only-of-type {\n",
       "        vertical-align: middle;\n",
       "    }\n",
       "\n",
       "    .dataframe tbody tr th {\n",
       "        vertical-align: top;\n",
       "    }\n",
       "\n",
       "    .dataframe thead th {\n",
       "        text-align: right;\n",
       "    }\n",
       "</style>\n",
       "<table border=\"1\" class=\"dataframe\">\n",
       "  <thead>\n",
       "    <tr style=\"text-align: right;\">\n",
       "      <th></th>\n",
       "      <th>Unnamed: 0</th>\n",
       "      <th>id</th>\n",
       "      <th>created_at</th>\n",
       "      <th>text</th>\n",
       "    </tr>\n",
       "  </thead>\n",
       "  <tbody>\n",
       "    <tr>\n",
       "      <th>0</th>\n",
       "      <td>0</td>\n",
       "      <td>1019545713435467776</td>\n",
       "      <td>2018-07-18 11:33:34</td>\n",
       "      <td>million jobs created since our great Elect...</td>\n",
       "    </tr>\n",
       "    <tr>\n",
       "      <th>1</th>\n",
       "      <td>1</td>\n",
       "      <td>1019544304853966853</td>\n",
       "      <td>2018-07-18 11:27:59</td>\n",
       "      <td>Some people HATE the fact that I got along wel...</td>\n",
       "    </tr>\n",
       "    <tr>\n",
       "      <th>2</th>\n",
       "      <td>2</td>\n",
       "      <td>1019538038651871233</td>\n",
       "      <td>2018-07-18 11:03:05</td>\n",
       "      <td>xe  x   x cA lot of Democrats wished they vot...</td>\n",
       "    </tr>\n",
       "  </tbody>\n",
       "</table>\n",
       "</div>"
      ],
      "text/plain": [
       "   Unnamed: 0                   id           created_at  \\\n",
       "0           0  1019545713435467776  2018-07-18 11:33:34   \n",
       "1           1  1019544304853966853  2018-07-18 11:27:59   \n",
       "2           2  1019538038651871233  2018-07-18 11:03:05   \n",
       "\n",
       "                                                text  \n",
       "0      million jobs created since our great Elect...  \n",
       "1  Some people HATE the fact that I got along wel...  \n",
       "2   xe  x   x cA lot of Democrats wished they vot...  "
      ]
     },
     "execution_count": 31,
     "metadata": {},
     "output_type": "execute_result"
    }
   ],
   "source": [
    "trump_df.head(3)"
   ]
  }
 ],
 "metadata": {
  "kernelspec": {
   "display_name": "Python 3",
   "language": "python",
   "name": "python3"
  },
  "language_info": {
   "codemirror_mode": {
    "name": "ipython",
    "version": 3
   },
   "file_extension": ".py",
   "mimetype": "text/x-python",
   "name": "python",
   "nbconvert_exporter": "python",
   "pygments_lexer": "ipython3",
   "version": "3.6.3"
  }
 },
 "nbformat": 4,
 "nbformat_minor": 2
}
